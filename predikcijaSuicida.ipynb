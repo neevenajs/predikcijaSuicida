{
  "cells": [
    {
      "cell_type": "markdown",
      "metadata": {
        "id": "view-in-github",
        "colab_type": "text"
      },
      "source": [
        "<a href=\"https://colab.research.google.com/github/neevenajs/proba/blob/main/predikcijaSuicida.ipynb\" target=\"_parent\"><img src=\"https://colab.research.google.com/assets/colab-badge.svg\" alt=\"Open In Colab\"/></a>"
      ]
    },
    {
      "cell_type": "code",
      "execution_count": null,
      "metadata": {
        "id": "hsZvFTDUNXS9"
      },
      "outputs": [],
      "source": [
        "#!pip install scipy>=1.7.1\n",
        "#!pip install dython\n",
        "import pandas as pd\n",
        "pd.__version__\n",
        "import numpy as np\n",
        "import pandas as pd \n",
        "import matplotlib.pyplot as plt\n",
        "import seaborn as sb\n",
        "import scipy as stats\n",
        "#import dython\n",
        "from sklearn.feature_selection import RFE\n",
        "from sklearn.linear_model import LogisticRegression\n",
        "from sklearn.ensemble import ExtraTreesClassifier\n",
        "#from dython import nominal\n",
        "import tensorflow as tf\n",
        "import random\n",
        "from sklearn.model_selection import train_test_split\n",
        "from sklearn.preprocessing import LabelEncoder\n",
        "from sklearn.preprocessing import StandardScaler\n",
        "from sklearn.tree import DecisionTreeClassifier\n",
        "from sklearn.neighbors import KNeighborsClassifier\n",
        "from sklearn.metrics import confusion_matrix,accuracy_score\n",
        "from sklearn.metrics import precision_score\n",
        "from sklearn.metrics import recall_score, f1_score\n",
        "from sklearn.metrics import cohen_kappa_score\n",
        "from sklearn.metrics import roc_auc_score\n",
        "#import scikitplot as skplt\n",
        "from sklearn.metrics import roc_curve, plot_roc_curve\n",
        "from keras.models import Sequential\n",
        "from keras.layers import Dense, Dropout\n",
        "from keras.callbacks import EarlyStopping\n",
        "from sklearn.metrics import classification_report\n",
        "from sklearn.svm import SVC\n",
        "from sklearn.model_selection import GridSearchCV\n",
        "from sklearn.metrics import f1_score\n",
        "from sklearn.model_selection import StratifiedKFold\n",
        "from sklearn.model_selection import cross_val_score\n",
        "from sklearn.metrics import plot_confusion_matrix\n",
        "from sklearn.metrics import plot_roc_curve"
      ]
    },
    {
      "cell_type": "code",
      "execution_count": null,
      "metadata": {
        "colab": {
          "base_uri": "https://localhost:8080/"
        },
        "id": "qg925c_0f_Tq",
        "outputId": "ee9cdbed-b6b2-44cd-cfae-52ebaf239c32"
      },
      "outputs": [
        {
          "output_type": "stream",
          "name": "stdout",
          "text": [
            "Mounted at /content/drive\n"
          ]
        }
      ],
      "source": [
        "from google.colab import drive\n",
        "drive.mount('/content/drive')"
      ]
    },
    {
      "cell_type": "code",
      "execution_count": null,
      "metadata": {
        "colab": {
          "base_uri": "https://localhost:8080/"
        },
        "id": "lzZh1rWHQJAC",
        "outputId": "11ba2f36-6d8e-44ef-a4bd-03b0a01df267"
      },
      "outputs": [
        {
          "output_type": "stream",
          "name": "stdout",
          "text": [
            "Mounted at /content/gdrive\n",
            " Aptrakt.docx\t\t  'Radna tabela.gsheet'\n",
            " predikcijaSuicida.ipynb  'Предикција степена ризика суицидног понашања.docx'\n",
            "'Radna tabela.csv'\n"
          ]
        }
      ],
      "source": [
        "# povezi sa google drive\n",
        "from google.colab import drive\n",
        "drive.mount('/content/gdrive')\n",
        "!ls \"/content/gdrive/My Drive/Predikcija suicida\""
      ]
    },
    {
      "cell_type": "code",
      "execution_count": null,
      "metadata": {
        "colab": {
          "base_uri": "https://localhost:8080/"
        },
        "id": "ZiIVBkgYNXTE",
        "outputId": "6215dd2b-277c-4e8c-d6bc-4dfd38073bb8"
      },
      "outputs": [
        {
          "output_type": "stream",
          "name": "stdout",
          "text": [
            "(305, 26)\n",
            "<class 'pandas.core.frame.DataFrame'>\n",
            "RangeIndex: 305 entries, 0 to 304\n",
            "Data columns (total 26 columns):\n",
            " #   Column                                Non-Null Count  Dtype  \n",
            "---  ------                                --------------  -----  \n",
            " 0   Pol                                   304 non-null    object \n",
            " 1   Starost                               305 non-null    int64  \n",
            " 2   Radni status                          259 non-null    object \n",
            " 3   Bračni status                         251 non-null    object \n",
            " 4   Obrazovni status                      128 non-null    object \n",
            " 5   Broj dana hospitalizacije             304 non-null    float64\n",
            " 6   Pozitivna porodična anamneza          189 non-null    object \n",
            " 7   Broj pokušaja suicida                 258 non-null    float64\n",
            " 8   Broj hospitalizacija                  244 non-null    float64\n",
            " 9   Ranije lečenje                        295 non-null    object \n",
            " 10  Telesni komorbiditet                  305 non-null    object \n",
            " 11  Broj članova domaćinstva              221 non-null    object \n",
            " 12  Broj dece                             233 non-null    float64\n",
            " 13  Metod pokušaja suicida                167 non-null    object \n",
            " 14  Mesec pokušaja                        305 non-null    object \n",
            " 15  Dan u nedelji                         305 non-null    object \n",
            " 16  Mesto stanovanja                      303 non-null    object \n",
            " 17  Upotreba alkohola                     305 non-null    object \n",
            " 18  Vodeća dijagnoza                      305 non-null    object \n",
            " 19  Prateća dijagnoza                     234 non-null    object \n",
            " 20  Materijalni status                    30 non-null     object \n",
            " 21  Razlog pokušaja suicida               262 non-null    object \n",
            " 22  Iskustvo zlostavljanja/zanemarivanja  9 non-null      object \n",
            " 23  Agresivnost/impulsivnost              136 non-null    object \n",
            " 24  Emocionalna nestabilnost              78 non-null     object \n",
            " 25  Stepen rizika                         305 non-null    int64  \n",
            "dtypes: float64(4), int64(2), object(20)\n",
            "memory usage: 62.1+ KB\n",
            "None\n",
            "Pol                                       1\n",
            "Starost                                   0\n",
            "Radni status                             46\n",
            "Bračni status                            54\n",
            "Obrazovni status                        177\n",
            "Broj dana hospitalizacije                 1\n",
            "Pozitivna porodična anamneza            116\n",
            "Broj pokušaja suicida                    47\n",
            "Broj hospitalizacija                     61\n",
            "Ranije lečenje                           10\n",
            "Telesni komorbiditet                      0\n",
            "Broj članova domaćinstva                 84\n",
            "Broj dece                                72\n",
            "Metod pokušaja suicida                  138\n",
            "Mesec pokušaja                            0\n",
            "Dan u nedelji                             0\n",
            "Mesto stanovanja                          2\n",
            "Upotreba alkohola                         0\n",
            "Vodeća dijagnoza                          0\n",
            "Prateća dijagnoza                        71\n",
            "Materijalni status                      275\n",
            "Razlog pokušaja suicida                  43\n",
            "Iskustvo zlostavljanja/zanemarivanja    296\n",
            "Agresivnost/impulsivnost                169\n",
            "Emocionalna nestabilnost                227\n",
            "Stepen rizika                             0\n",
            "dtype: int64\n",
            "\n",
            " Procenat NaN: \n",
            " Pol                                      0.327869\n",
            "Starost                                  0.000000\n",
            "Radni status                            15.081967\n",
            "Bračni status                           17.704918\n",
            "Obrazovni status                        58.032787\n",
            "Broj dana hospitalizacije                0.327869\n",
            "Pozitivna porodična anamneza            38.032787\n",
            "Broj pokušaja suicida                   15.409836\n",
            "Broj hospitalizacija                    20.000000\n",
            "Ranije lečenje                           3.278689\n",
            "Telesni komorbiditet                     0.000000\n",
            "Broj članova domaćinstva                27.540984\n",
            "Broj dece                               23.606557\n",
            "Metod pokušaja suicida                  45.245902\n",
            "Mesec pokušaja                           0.000000\n",
            "Dan u nedelji                            0.000000\n",
            "Mesto stanovanja                         0.655738\n",
            "Upotreba alkohola                        0.000000\n",
            "Vodeća dijagnoza                         0.000000\n",
            "Prateća dijagnoza                       23.278689\n",
            "Materijalni status                      90.163934\n",
            "Razlog pokušaja suicida                 14.098361\n",
            "Iskustvo zlostavljanja/zanemarivanja    97.049180\n",
            "Agresivnost/impulsivnost                55.409836\n",
            "Emocionalna nestabilnost                74.426230\n",
            "Stepen rizika                            0.000000\n",
            "dtype: float64\n",
            "167\n"
          ]
        }
      ],
      "source": [
        "data = pd.read_csv(\"/content/gdrive/My Drive/Predikcija suicida/Radna tabela.csv\")\n",
        "#data=pd.read_csv(\"radna_tabela.csv\", sep='\\t', engine='python')\n",
        "print(data.shape)\n",
        "print(data.info())\n",
        "\n",
        "data.head()\n",
        "NANs = data.isnull().sum()\n",
        "print(NANs)\n",
        "udeo = data.isnull().sum()/len(data)*100\n",
        "print(\"\\n Procenat NaN: \\n\", udeo)\n",
        "print(len(data[data['Stepen rizika']==1]))"
      ]
    },
    {
      "cell_type": "code",
      "execution_count": null,
      "metadata": {
        "colab": {
          "base_uri": "https://localhost:8080/"
        },
        "id": "weP50hj_NXTG",
        "outputId": "a668c322-9c4a-41cd-e2e0-0dd1f88ff525"
      },
      "outputs": [
        {
          "output_type": "stream",
          "name": "stdout",
          "text": [
            "% of missing values:\n",
            " Pol                           0.327869\n",
            "Starost                       0.000000\n",
            "Radni status                 15.081967\n",
            "Bračni status                17.704918\n",
            "Broj dana hospitalizacije     0.327869\n",
            "Broj pokušaja suicida        15.409836\n",
            "Broj hospitalizacija         20.000000\n",
            "Ranije lečenje                3.278689\n",
            "Telesni komorbiditet          0.000000\n",
            "Broj članova domaćinstva     27.540984\n",
            "Broj dece                    23.606557\n",
            "Mesec pokušaja                0.000000\n",
            "Dan u nedelji                 0.000000\n",
            "Mesto stanovanja              0.655738\n",
            "Upotreba alkohola             0.000000\n",
            "Vodeća dijagnoza              0.000000\n",
            "Prateća dijagnoza            23.278689\n",
            "Razlog pokušaja suicida      14.098361\n",
            "Stepen rizika                 0.000000\n",
            "dtype: float64\n",
            "\n",
            "(305, 19)\n",
            "Procenat nedostajucih podataka: \n",
            " Pol                           0.000000\n",
            "Starost                       0.000000\n",
            "Radni status                 15.282392\n",
            "Bračni status                17.940199\n",
            "Broj dana hospitalizacije     0.000000\n",
            "Broj pokušaja suicida        15.614618\n",
            "Broj hospitalizacija         20.265781\n",
            "Ranije lečenje                3.322259\n",
            "Telesni komorbiditet          0.000000\n",
            "Broj članova domaćinstva     27.574751\n",
            "Broj dece                    23.588040\n",
            "Mesec pokušaja                0.000000\n",
            "Dan u nedelji                 0.000000\n",
            "Mesto stanovanja              0.000000\n",
            "Upotreba alkohola             0.000000\n",
            "Vodeća dijagnoza              0.000000\n",
            "Prateća dijagnoza            23.588040\n",
            "Razlog pokušaja suicida      14.285714\n",
            "Stepen rizika                 0.000000\n",
            "dtype: float64\n"
          ]
        }
      ],
      "source": [
        "#nominal.associations(data, figsize=(30,40),mark_columns=True)\n",
        "# drop columns with more than 40% missing data\n",
        "#data.drop(['Obrazovni status','Metod pokušaja suicida', 'Materijalni status', 'Iskustvo zlostavljanja/zanemarivanja', 'Agresivnost/impulsivnost', 'Emocionalna nestabilnost','Pozitivna porodična anamneza '], axis=1, inplace=True)\n",
        "del data['Obrazovni status']\n",
        "del data['Materijalni status']\n",
        "del data['Iskustvo zlostavljanja/zanemarivanja']\n",
        "del data['Agresivnost/impulsivnost']\n",
        "del data['Emocionalna nestabilnost']\n",
        "del data['Pozitivna porodična anamneza ']\n",
        "del data['Metod pokušaja suicida']\n",
        "print('% of missing values:\\n', data.isnull().sum()/len(data)*100)\n",
        "print()\n",
        "print(data.shape)\n",
        "\n",
        "data.dropna(subset=['Pol', 'Broj dana hospitalizacije', 'Mesto stanovanja'], axis=0, inplace=True)\n",
        "data.shape\n",
        "\n",
        "print(\"Procenat nedostajucih podataka: \\n\", data.isnull().sum()/len(data)*100)\n",
        "\n"
      ]
    },
    {
      "cell_type": "code",
      "execution_count": null,
      "metadata": {
        "colab": {
          "base_uri": "https://localhost:8080/",
          "height": 1000
        },
        "id": "AH2-PM7hLN_m",
        "outputId": "894c3f53-c14a-4d17-9870-a98655b8d815"
      },
      "outputs": [
        {
          "output_type": "stream",
          "name": "stdout",
          "text": [
            "<class 'pandas.core.frame.DataFrame'>\n",
            "Int64Index: 301 entries, 0 to 304\n",
            "Data columns (total 19 columns):\n",
            " #   Column                     Non-Null Count  Dtype  \n",
            "---  ------                     --------------  -----  \n",
            " 0   Pol                        301 non-null    object \n",
            " 1   Starost                    301 non-null    object \n",
            " 2   Radni status               301 non-null    object \n",
            " 3   Bračni status              301 non-null    object \n",
            " 4   Broj dana hospitalizacije  301 non-null    float64\n",
            " 5   Broj pokušaja suicida      301 non-null    float64\n",
            " 6   Broj hospitalizacija       301 non-null    float64\n",
            " 7   Ranije lečenje             301 non-null    object \n",
            " 8   Telesni komorbiditet       301 non-null    object \n",
            " 9   Broj članova domaćinstva   301 non-null    float64\n",
            " 10  Broj dece                  301 non-null    float64\n",
            " 11  Mesec pokušaja             301 non-null    object \n",
            " 12  Dan u nedelji              301 non-null    object \n",
            " 13  Mesto stanovanja           301 non-null    object \n",
            " 14  Upotreba alkohola          301 non-null    object \n",
            " 15  Vodeća dijagnoza           301 non-null    object \n",
            " 16  Prateća dijagnoza          301 non-null    object \n",
            " 17  Razlog pokušaja suicida    301 non-null    object \n",
            " 18  Stepen rizika              301 non-null    object \n",
            "dtypes: float64(5), object(14)\n",
            "memory usage: 47.0+ KB\n",
            "None\n",
            "Procenat nedostajucih podataka: \n",
            " Pol                          0.0\n",
            "Starost                      0.0\n",
            "Radni status                 0.0\n",
            "Bračni status                0.0\n",
            "Broj dana hospitalizacije    0.0\n",
            "Broj pokušaja suicida        0.0\n",
            "Broj hospitalizacija         0.0\n",
            "Ranije lečenje               0.0\n",
            "Telesni komorbiditet         0.0\n",
            "Broj članova domaćinstva     0.0\n",
            "Broj dece                    0.0\n",
            "Mesec pokušaja               0.0\n",
            "Dan u nedelji                0.0\n",
            "Mesto stanovanja             0.0\n",
            "Upotreba alkohola            0.0\n",
            "Vodeća dijagnoza             0.0\n",
            "Prateća dijagnoza            0.0\n",
            "Razlog pokušaja suicida      0.0\n",
            "Stepen rizika                0.0\n",
            "dtype: float64\n",
            "<class 'pandas.core.frame.DataFrame'>\n",
            "Int64Index: 301 entries, 0 to 304\n",
            "Data columns (total 19 columns):\n",
            " #   Column                     Non-Null Count  Dtype  \n",
            "---  ------                     --------------  -----  \n",
            " 0   Pol                        301 non-null    object \n",
            " 1   Starost                    301 non-null    float64\n",
            " 2   Radni status               301 non-null    object \n",
            " 3   Bračni status              301 non-null    object \n",
            " 4   Broj dana hospitalizacije  301 non-null    float64\n",
            " 5   Broj pokušaja suicida      301 non-null    float64\n",
            " 6   Broj hospitalizacija       301 non-null    float64\n",
            " 7   Ranije lečenje             301 non-null    object \n",
            " 8   Telesni komorbiditet       301 non-null    object \n",
            " 9   Broj članova domaćinstva   301 non-null    float64\n",
            " 10  Broj dece                  301 non-null    float64\n",
            " 11  Mesec pokušaja             301 non-null    object \n",
            " 12  Dan u nedelji              301 non-null    object \n",
            " 13  Mesto stanovanja           301 non-null    object \n",
            " 14  Upotreba alkohola          301 non-null    object \n",
            " 15  Vodeća dijagnoza           301 non-null    object \n",
            " 16  Prateća dijagnoza          301 non-null    object \n",
            " 17  Razlog pokušaja suicida    301 non-null    object \n",
            " 18  Stepen rizika              301 non-null    float64\n",
            "dtypes: float64(7), object(12)\n",
            "memory usage: 47.0+ KB\n",
            "None\n"
          ]
        },
        {
          "output_type": "execute_result",
          "data": {
            "text/html": [
              "\n",
              "  <div id=\"df-e110b1a7-b236-452d-acef-98aa842980c8\">\n",
              "    <div class=\"colab-df-container\">\n",
              "      <div>\n",
              "<style scoped>\n",
              "    .dataframe tbody tr th:only-of-type {\n",
              "        vertical-align: middle;\n",
              "    }\n",
              "\n",
              "    .dataframe tbody tr th {\n",
              "        vertical-align: top;\n",
              "    }\n",
              "\n",
              "    .dataframe thead th {\n",
              "        text-align: right;\n",
              "    }\n",
              "</style>\n",
              "<table border=\"1\" class=\"dataframe\">\n",
              "  <thead>\n",
              "    <tr style=\"text-align: right;\">\n",
              "      <th></th>\n",
              "      <th>Pol</th>\n",
              "      <th>Starost</th>\n",
              "      <th>Radni status</th>\n",
              "      <th>Bračni status</th>\n",
              "      <th>Broj dana hospitalizacije</th>\n",
              "      <th>Broj pokušaja suicida</th>\n",
              "      <th>Broj hospitalizacija</th>\n",
              "      <th>Ranije lečenje</th>\n",
              "      <th>Telesni komorbiditet</th>\n",
              "      <th>Broj članova domaćinstva</th>\n",
              "      <th>Broj dece</th>\n",
              "      <th>Mesec pokušaja</th>\n",
              "      <th>Dan u nedelji</th>\n",
              "      <th>Mesto stanovanja</th>\n",
              "      <th>Upotreba alkohola</th>\n",
              "      <th>Vodeća dijagnoza</th>\n",
              "      <th>Prateća dijagnoza</th>\n",
              "      <th>Razlog pokušaja suicida</th>\n",
              "      <th>Stepen rizika</th>\n",
              "    </tr>\n",
              "  </thead>\n",
              "  <tbody>\n",
              "    <tr>\n",
              "      <th>0</th>\n",
              "      <td>ž</td>\n",
              "      <td>42.0</td>\n",
              "      <td>zaposlen/a</td>\n",
              "      <td>neoženjen/neudata</td>\n",
              "      <td>29.0</td>\n",
              "      <td>2.0</td>\n",
              "      <td>2.0</td>\n",
              "      <td>da</td>\n",
              "      <td>nema</td>\n",
              "      <td>3.0</td>\n",
              "      <td>0.0</td>\n",
              "      <td>januar</td>\n",
              "      <td>utorak</td>\n",
              "      <td>grad</td>\n",
              "      <td>ne</td>\n",
              "      <td>f3</td>\n",
              "      <td>f6</td>\n",
              "      <td>neodređeno</td>\n",
              "      <td>1.0</td>\n",
              "    </tr>\n",
              "    <tr>\n",
              "      <th>1</th>\n",
              "      <td>m</td>\n",
              "      <td>58.0</td>\n",
              "      <td>zaposlen/a</td>\n",
              "      <td>razveden/a</td>\n",
              "      <td>11.0</td>\n",
              "      <td>0.0</td>\n",
              "      <td>0.0</td>\n",
              "      <td>ne</td>\n",
              "      <td>kardiovaskularne bolesti</td>\n",
              "      <td>2.0</td>\n",
              "      <td>1.0</td>\n",
              "      <td>januar</td>\n",
              "      <td>petak</td>\n",
              "      <td>selo</td>\n",
              "      <td>da</td>\n",
              "      <td>f4</td>\n",
              "      <td>f1</td>\n",
              "      <td>porodični problemi</td>\n",
              "      <td>1.0</td>\n",
              "    </tr>\n",
              "    <tr>\n",
              "      <th>2</th>\n",
              "      <td>m</td>\n",
              "      <td>40.0</td>\n",
              "      <td>no info</td>\n",
              "      <td>no info</td>\n",
              "      <td>8.0</td>\n",
              "      <td>1.0</td>\n",
              "      <td>1.0</td>\n",
              "      <td>no info</td>\n",
              "      <td>nepoznato</td>\n",
              "      <td>3.0</td>\n",
              "      <td>1.0</td>\n",
              "      <td>januar</td>\n",
              "      <td>četvrtak</td>\n",
              "      <td>selo</td>\n",
              "      <td>da</td>\n",
              "      <td>f6</td>\n",
              "      <td>f1</td>\n",
              "      <td>neodređeno</td>\n",
              "      <td>1.0</td>\n",
              "    </tr>\n",
              "    <tr>\n",
              "      <th>3</th>\n",
              "      <td>ž</td>\n",
              "      <td>51.0</td>\n",
              "      <td>zaposlen/a</td>\n",
              "      <td>vanbračna zajednica</td>\n",
              "      <td>10.0</td>\n",
              "      <td>2.0</td>\n",
              "      <td>2.0</td>\n",
              "      <td>da</td>\n",
              "      <td>endokrinološke bolesti</td>\n",
              "      <td>2.0</td>\n",
              "      <td>0.0</td>\n",
              "      <td>januar</td>\n",
              "      <td>petak</td>\n",
              "      <td>grad</td>\n",
              "      <td>da</td>\n",
              "      <td>f6</td>\n",
              "      <td>ne postoji</td>\n",
              "      <td>neodređeno</td>\n",
              "      <td>1.0</td>\n",
              "    </tr>\n",
              "    <tr>\n",
              "      <th>4</th>\n",
              "      <td>m</td>\n",
              "      <td>59.0</td>\n",
              "      <td>zaposlen/a</td>\n",
              "      <td>oženjen/udata</td>\n",
              "      <td>15.0</td>\n",
              "      <td>1.0</td>\n",
              "      <td>1.0</td>\n",
              "      <td>da</td>\n",
              "      <td>nema</td>\n",
              "      <td>3.0</td>\n",
              "      <td>0.0</td>\n",
              "      <td>februar</td>\n",
              "      <td>sreda</td>\n",
              "      <td>grad</td>\n",
              "      <td>da</td>\n",
              "      <td>f6</td>\n",
              "      <td>ne postoji</td>\n",
              "      <td>porodični problemi</td>\n",
              "      <td>1.0</td>\n",
              "    </tr>\n",
              "  </tbody>\n",
              "</table>\n",
              "</div>\n",
              "      <button class=\"colab-df-convert\" onclick=\"convertToInteractive('df-e110b1a7-b236-452d-acef-98aa842980c8')\"\n",
              "              title=\"Convert this dataframe to an interactive table.\"\n",
              "              style=\"display:none;\">\n",
              "        \n",
              "  <svg xmlns=\"http://www.w3.org/2000/svg\" height=\"24px\"viewBox=\"0 0 24 24\"\n",
              "       width=\"24px\">\n",
              "    <path d=\"M0 0h24v24H0V0z\" fill=\"none\"/>\n",
              "    <path d=\"M18.56 5.44l.94 2.06.94-2.06 2.06-.94-2.06-.94-.94-2.06-.94 2.06-2.06.94zm-11 1L8.5 8.5l.94-2.06 2.06-.94-2.06-.94L8.5 2.5l-.94 2.06-2.06.94zm10 10l.94 2.06.94-2.06 2.06-.94-2.06-.94-.94-2.06-.94 2.06-2.06.94z\"/><path d=\"M17.41 7.96l-1.37-1.37c-.4-.4-.92-.59-1.43-.59-.52 0-1.04.2-1.43.59L10.3 9.45l-7.72 7.72c-.78.78-.78 2.05 0 2.83L4 21.41c.39.39.9.59 1.41.59.51 0 1.02-.2 1.41-.59l7.78-7.78 2.81-2.81c.8-.78.8-2.07 0-2.86zM5.41 20L4 18.59l7.72-7.72 1.47 1.35L5.41 20z\"/>\n",
              "  </svg>\n",
              "      </button>\n",
              "      \n",
              "  <style>\n",
              "    .colab-df-container {\n",
              "      display:flex;\n",
              "      flex-wrap:wrap;\n",
              "      gap: 12px;\n",
              "    }\n",
              "\n",
              "    .colab-df-convert {\n",
              "      background-color: #E8F0FE;\n",
              "      border: none;\n",
              "      border-radius: 50%;\n",
              "      cursor: pointer;\n",
              "      display: none;\n",
              "      fill: #1967D2;\n",
              "      height: 32px;\n",
              "      padding: 0 0 0 0;\n",
              "      width: 32px;\n",
              "    }\n",
              "\n",
              "    .colab-df-convert:hover {\n",
              "      background-color: #E2EBFA;\n",
              "      box-shadow: 0px 1px 2px rgba(60, 64, 67, 0.3), 0px 1px 3px 1px rgba(60, 64, 67, 0.15);\n",
              "      fill: #174EA6;\n",
              "    }\n",
              "\n",
              "    [theme=dark] .colab-df-convert {\n",
              "      background-color: #3B4455;\n",
              "      fill: #D2E3FC;\n",
              "    }\n",
              "\n",
              "    [theme=dark] .colab-df-convert:hover {\n",
              "      background-color: #434B5C;\n",
              "      box-shadow: 0px 1px 3px 1px rgba(0, 0, 0, 0.15);\n",
              "      filter: drop-shadow(0px 1px 2px rgba(0, 0, 0, 0.3));\n",
              "      fill: #FFFFFF;\n",
              "    }\n",
              "  </style>\n",
              "\n",
              "      <script>\n",
              "        const buttonEl =\n",
              "          document.querySelector('#df-e110b1a7-b236-452d-acef-98aa842980c8 button.colab-df-convert');\n",
              "        buttonEl.style.display =\n",
              "          google.colab.kernel.accessAllowed ? 'block' : 'none';\n",
              "\n",
              "        async function convertToInteractive(key) {\n",
              "          const element = document.querySelector('#df-e110b1a7-b236-452d-acef-98aa842980c8');\n",
              "          const dataTable =\n",
              "            await google.colab.kernel.invokeFunction('convertToInteractive',\n",
              "                                                     [key], {});\n",
              "          if (!dataTable) return;\n",
              "\n",
              "          const docLinkHtml = 'Like what you see? Visit the ' +\n",
              "            '<a target=\"_blank\" href=https://colab.research.google.com/notebooks/data_table.ipynb>data table notebook</a>'\n",
              "            + ' to learn more about interactive tables.';\n",
              "          element.innerHTML = '';\n",
              "          dataTable['output_type'] = 'display_data';\n",
              "          await google.colab.output.renderOutput(dataTable, element);\n",
              "          const docLink = document.createElement('div');\n",
              "          docLink.innerHTML = docLinkHtml;\n",
              "          element.appendChild(docLink);\n",
              "        }\n",
              "      </script>\n",
              "    </div>\n",
              "  </div>\n",
              "  "
            ],
            "text/plain": [
              "  Pol  Starost  ... Razlog pokušaja suicida Stepen rizika\n",
              "0   ž     42.0  ...              neodređeno           1.0\n",
              "1   m     58.0  ...      porodični problemi           1.0\n",
              "2   m     40.0  ...              neodređeno           1.0\n",
              "3   ž     51.0  ...              neodređeno           1.0\n",
              "4   m     59.0  ...      porodični problemi           1.0\n",
              "\n",
              "[5 rows x 19 columns]"
            ]
          },
          "metadata": {},
          "execution_count": 7
        }
      ],
      "source": [
        "#data = data.apply(lambda x:x.fillna(x.value_counts().index[0]))\n",
        "data = data.apply(lambda x: x.astype(str).str.lower())\n",
        "\n",
        "#bracni status i radni status: nan menjam sa no info\n",
        "data['Bračni status'].replace('nan', 'no info', inplace=True)\n",
        "data['Radni status'].replace('nan', 'no info', inplace=True)\n",
        "#razlog pokusaja suicida: nan prebacujem u /\n",
        "#u ovom obelezju smo imali kategoriju neodredjeno, no info i /, pa sam sve prebacila u neodredjeno, jer znaci isto\n",
        "data['Razlog pokušaja suicida'].replace('nan','neodređeno', inplace=True)\n",
        "#prateca dijagnoza: nan zamenjujem novom kategorijom 'ne postoji'\n",
        "data['Prateća dijagnoza'].replace('nan', 'ne postoji', inplace=True)\n",
        "#broj dece: zamenjujem zaokruzenom srednjom vrednoscu\n",
        "data['Broj dece']=data['Broj dece'].astype(str).astype(float)\n",
        "data['Broj dece']=data['Broj dece'].fillna(round(data['Broj dece'].mean()))\n",
        "#broj clanova domacinstva: zamenjuje zaokruzenom srednjom vrednoscu\n",
        "data['Broj članova domaćinstva'].replace('beskućnik', 0, inplace=True)\n",
        "data['Broj članova domaćinstva']=data['Broj članova domaćinstva'].astype(str).astype(float)\n",
        "data['Broj članova domaćinstva'].fillna(round(data['Broj članova domaćinstva'].mean()), inplace=True)\n",
        "#broj hospitalizacija: nan menjam srednjom vrednoscu\n",
        "data['Broj hospitalizacija']=data['Broj hospitalizacija'].astype(str).astype(float)\n",
        "data['Broj hospitalizacija'].fillna(round(data['Broj hospitalizacija'].mean()), inplace=True)\n",
        "#ranije lecenje: nan menjam sa 'no info'\n",
        "data['Ranije lečenje'].replace('nan', 'no info', inplace=True)\n",
        "#broj pokusaja suicida: nan menjam srednjom vrednoscu\n",
        "data['Broj pokušaja suicida']=data['Broj pokušaja suicida'].astype(str).astype(float)\n",
        "data['Broj pokušaja suicida'].fillna(round(data['Broj pokušaja suicida'].mean()), inplace=True)\n",
        "#kod metode pokusaja suicida menjam nan sa ne postoji zato sto su to u pitanju pacijenti niskog rizika\n",
        "#data['Metod pokušaja suicida'].replace('nan', 'ne postoji', inplace=True)\n",
        "data['Broj dana hospitalizacije']=data['Broj dana hospitalizacije'].astype(str).astype(float)\n",
        "print(data.info())\n",
        "print(\"Procenat nedostajucih podataka: \\n\", data.isnull().sum()/len(data)*100)\n",
        "data['Stepen rizika']=data['Stepen rizika'].astype(str).astype(float)\n",
        "data['Starost']=data['Starost'].astype(str).astype(float)\n",
        "data.head()\n",
        "print(data.info())\n",
        "\n",
        "data.head()\n"
      ]
    },
    {
      "cell_type": "code",
      "execution_count": null,
      "metadata": {
        "colab": {
          "base_uri": "https://localhost:8080/",
          "height": 1000
        },
        "id": "KVFZ4GIQ4cyZ",
        "outputId": "c0d417a8-baa5-4be4-984b-0ffa65ea7a2e"
      },
      "outputs": [
        {
          "output_type": "stream",
          "name": "stderr",
          "text": [
            "/usr/local/lib/python3.7/dist-packages/matplotlib/cbook/__init__.py:1376: VisibleDeprecationWarning: Creating an ndarray from ragged nested sequences (which is a list-or-tuple of lists-or-tuples-or ndarrays with different lengths or shapes) is deprecated. If you meant to do this, you must specify 'dtype=object' when creating the ndarray.\n",
            "  X = np.atleast_1d(X.T if isinstance(X, np.ndarray) else np.asarray(X))\n"
          ]
        },
        {
          "output_type": "display_data",
          "data": {
            "image/png": "[encoded data removed]",
            "text/plain": [
              "<Figure size 720x504 with 1 Axes>"
            ]
          },
          "metadata": {
            "needs_background": "light"
          }
        },
        {
          "output_type": "stream",
          "name": "stdout",
          "text": [
            "count    301.000000\n",
            "mean      39.906977\n",
            "std       16.062108\n",
            "min        8.000000\n",
            "25%       28.000000\n",
            "50%       39.000000\n",
            "75%       50.000000\n",
            "max       85.000000\n",
            "Name: Starost, dtype: float64\n",
            "count    301.000000\n",
            "mean       1.000000\n",
            "std        1.726268\n",
            "min        0.000000\n",
            "25%        0.000000\n",
            "50%        0.000000\n",
            "75%        1.000000\n",
            "max       20.000000\n",
            "Name: Broj pokušaja suicida, dtype: float64\n",
            "count    301.000000\n",
            "mean      11.136213\n",
            "std        9.037591\n",
            "min        1.000000\n",
            "25%        4.000000\n",
            "50%        8.000000\n",
            "75%       16.000000\n",
            "max       51.000000\n",
            "Name: Broj dana hospitalizacije, dtype: float64\n",
            "ž\n",
            "45.0\n",
            "nezaposlen/a\n",
            "neoženjen/neudata\n",
            "7.0\n",
            "0.0\n",
            "0.0\n",
            "da\n",
            "nema\n",
            "3.0\n",
            "0.0\n",
            "okt\n",
            "četvrtak\n",
            "grad\n",
            "ne\n",
            "f2\n",
            "f2\n",
            "/\n"
          ]
        }
      ],
      "source": [
        "visokiRizik=data[data['Stepen rizika']==1]\n",
        "nizakRizik=data[data['Stepen rizika']==0]\n",
        "podaci1=visokiRizik['Starost']\n",
        "podaci2=nizakRizik['Starost']\n",
        "podaci=[podaci1, podaci2]\n",
        "green_diamond = dict(markerfacecolor='g', marker='D')\n",
        "fig=plt.figure(figsize=(10,7))\n",
        "ax = fig.add_axes([0, 0, 1, 1])\n",
        "ax.set_title('Starost', fontsize=20)\n",
        "bp=ax.boxplot(podaci, flierprops=green_diamond, labels=['Visok stepen rizika', 'Nizak stepen rizika'])\n",
        "ax.set_xticklabels(labels=['Visok stepen rizika', 'Nizak stepen rizika'], fontsize=20)\n",
        "plt.show()\n",
        "\n",
        "print(data['Starost'].describe())\n",
        "print(data['Broj pokušaja suicida'].describe())\n",
        "print(data['Broj dana hospitalizacije'].describe())\n",
        "\n",
        "print(nizakRizik['Pol'].value_counts().idxmax())                          \n",
        "print(nizakRizik['Starost'].value_counts().idxmax())                     \n",
        "print(nizakRizik['Radni status'].value_counts().idxmax())                 \n",
        "print(nizakRizik['Bračni status'].value_counts().idxmax())               \n",
        "print(nizakRizik['Broj dana hospitalizacije'].value_counts().idxmax())   \n",
        "print(nizakRizik['Broj pokušaja suicida'].value_counts().idxmax())   \n",
        "print(nizakRizik['Broj hospitalizacija'].value_counts().idxmax())                          \n",
        "print(nizakRizik['Ranije lečenje'].value_counts().idxmax())                     \n",
        "print(nizakRizik['Telesni komorbiditet'].value_counts().idxmax())                 \n",
        "print(nizakRizik['Broj članova domaćinstva'].value_counts().idxmax())               \n",
        "print(nizakRizik['Broj dece'].value_counts().idxmax())   \n",
        "print(nizakRizik['Mesec pokušaja'].value_counts().idxmax()) \n",
        "print(nizakRizik['Dan u nedelji'].value_counts().idxmax())                          \n",
        "print(nizakRizik['Mesto stanovanja'].value_counts().idxmax())                     \n",
        "print(nizakRizik['Upotreba alkohola'].value_counts().idxmax())                 \n",
        "print(nizakRizik['Vodeća dijagnoza'].value_counts().idxmax())               \n",
        "print(nizakRizik['Prateća dijagnoza'].value_counts().idxmax())   \n",
        "print(nizakRizik['Razlog pokušaja suicida'].value_counts().idxmax()) \n",
        "#print(nizakRizik['Metod pokušaja suicida'].value_counts().idxmax())\n",
        "#print(visokiRizik['Metod pokušaja suicida'].value_counts())\n"
      ]
    },
    {
      "cell_type": "code",
      "execution_count": null,
      "metadata": {
        "colab": {
          "base_uri": "https://localhost:8080/",
          "height": 855
        },
        "id": "_2DHA5ze2C1U",
        "outputId": "d299bded-5d55-4d54-8431-94e45d0ada28"
      },
      "outputs": [
        {
          "output_type": "stream",
          "name": "stderr",
          "text": [
            "/usr/local/lib/python3.7/dist-packages/seaborn/distributions.py:2619: FutureWarning: `distplot` is a deprecated function and will be removed in a future version. Please adapt your code to use either `displot` (a figure-level function with similar flexibility) or `histplot` (an axes-level function for histograms).\n",
            "  warnings.warn(msg, FutureWarning)\n"
          ]
        },
        {
          "output_type": "display_data",
          "data": {
            "image/png": "[encoded data removed]",
            "text/plain": [
              "<Figure size 432x288 with 1 Axes>"
            ]
          },
          "metadata": {
            "needs_background": "light"
          }
        },
        {
          "output_type": "stream",
          "name": "stdout",
          "text": [
            "    Pol  Radni status  ... Prateća dijagnoza Razlog pokušaja suicida\n",
            "0     ž    zaposlen/a  ...                f6              neodređeno\n",
            "1     m    zaposlen/a  ...                f1      porodični problemi\n",
            "2     m       no info  ...                f1              neodređeno\n",
            "3     ž    zaposlen/a  ...        ne postoji              neodređeno\n",
            "4     m    zaposlen/a  ...        ne postoji      porodični problemi\n",
            "..   ..           ...  ...               ...                     ...\n",
            "300   ž  nezaposlen/a  ...                f7                       /\n",
            "301   ž  penzioner/ka  ...                f0                       /\n",
            "302   ž    učenik/ica  ...        ne postoji                       /\n",
            "303   ž    zaposlen/a  ...        ne postoji                       /\n",
            "304   m    učenik/ica  ...                f3                       /\n",
            "\n",
            "[301 rows x 12 columns]\n",
            "7    32.0\n",
            "Name: Starost, dtype: float64\n",
            "sept        21\n",
            "januar      17\n",
            "november    17\n",
            "december    17\n",
            "june        16\n",
            "okt         16\n",
            "februar     13\n",
            "mart        10\n",
            "april       10\n",
            "july        10\n",
            "avgust      10\n",
            "maj          8\n",
            "oktobar      1\n",
            "Name: Mesec pokušaja, dtype: int64\n"
          ]
        }
      ],
      "source": [
        "Y1=data.iloc[:, -1]\n",
        "#histogram\n",
        "sb.distplot(Y1)\n",
        "plt.show()\n",
        "X1 = data.iloc[:, :-1]\n",
        "\n",
        "numerical_feats = X1.dtypes[X1.dtypes != \"object\"]\n",
        "#print(numerical_feats)\n",
        "categoricalFeatures = X1.select_dtypes(include=['object']).copy()\n",
        "#categoricalFeatures.head()\n",
        "print(categoricalFeatures)\n",
        "column=list(X1)\n",
        "#data = data.apply(lambda x: x.astype(str).str.lower())\n",
        "\n",
        "for columns in data:\n",
        "  uniqueValues = data[columns].unique()\n",
        "  #print(uniqueValues)\n",
        "\n",
        "#print(data.isnull().sum().sum())\n",
        "#data.head()\n",
        "#data = data.apply(lambda x: x.astype(str).str.lower()\n",
        "#print(data['Razlog pokušaja suicida'].value_counts().idxmax())\n",
        "visokiRizik_kat=data[data['Stepen rizika']==1]\n",
        "ekstrem=visokiRizik_kat[visokiRizik_kat['Broj pokušaja suicida']==20]\n",
        "print(ekstrem['Starost'])\n",
        "print(visokiRizik_kat['Mesec pokušaja'].value_counts())\n",
        "razlog=visokiRizik_kat[visokiRizik_kat['Razlog pokušaja suicida']=='porodični problemi']\n",
        "#print(razlog['Broj dece'].value_counts())\n",
        "#pacijentSamotrovanje=visokiRizik_kat[visokiRizik_kat['Metod pokušaja suicida']=='skakanje sa visine']\n",
        "#upotrebaAlkohola=visokiRizik_kat[visokiRizik_kat['Upotreba alkohola']=='da']\n",
        "#print(pacijentSamotrovanje['Vodeća dijagnoza'].value_counts())\n",
        "#nePostoji=data[data['Metod pokušaja suicida']!='ne postoji']\n",
        "#nisuRanije=nePostoji[nePostoji['Broj pokušaja suicida']==0]\n",
        "#print(nisuRanije['Razlog pokušaja suicida'].value_counts())"
      ]
    },
    {
      "cell_type": "code",
      "execution_count": null,
      "metadata": {
        "id": "DKadIARdBtYo"
      },
      "outputs": [],
      "source": [
        "corr = data.iloc[:,:-1].corr(method = 'pearson')\n",
        "plt.figure(figsize=(12,9))\n",
        "sb.set(font_scale=1.9)\n",
        "sb.heatmap(corr, annot=True, annot_kws={\"fontsize\":17})\n",
        "import scipy.stats\n",
        "\n",
        "r, p = scipy.stats.spearmanr(data)\n",
        "#print(p)\n",
        "\n",
        "#prikazujem korelaciju izmedju varijabli (sortirano)\n",
        "c = data.corr().abs()\n",
        "s = c.unstack()\n",
        "so = s.sort_values(kind=\"quicksort\")\n",
        "#print(so)"
      ]
    },
    {
      "cell_type": "code",
      "source": [
        "data.dtypes"
      ],
      "metadata": {
        "colab": {
          "base_uri": "https://localhost:8080/"
        },
        "id": "ogyHhArfjLoC",
        "outputId": "5bcab26d-9c8b-4c25-8083-fb26bcb5d4b3"
      },
      "execution_count": null,
      "outputs": [
        {
          "output_type": "execute_result",
          "data": {
            "text/plain": [
              "Pol                           object\n",
              "Starost                      float64\n",
              "Radni status                  object\n",
              "Bračni status                 object\n",
              "Broj dana hospitalizacije    float64\n",
              "Broj pokušaja suicida        float64\n",
              "Broj hospitalizacija         float64\n",
              "Ranije lečenje                object\n",
              "Telesni komorbiditet          object\n",
              "Broj članova domaćinstva     float64\n",
              "Broj dece                    float64\n",
              "Mesec pokušaja                object\n",
              "Dan u nedelji                 object\n",
              "Mesto stanovanja              object\n",
              "Upotreba alkohola             object\n",
              "Vodeća dijagnoza              object\n",
              "Prateća dijagnoza             object\n",
              "Razlog pokušaja suicida       object\n",
              "Stepen rizika                float64\n",
              "dtype: object"
            ]
          },
          "metadata": {},
          "execution_count": 9
        }
      ]
    },
    {
      "cell_type": "code",
      "source": [
        "# catg to num\n",
        "catg_list = data.dtypes[data.dtypes == \"object\"].index.tolist() \n",
        "data1=pd.DataFrame()\n",
        "for catg in catg_list:\n",
        "    X_temp = pd.get_dummies(data[catg], prefix=catg).iloc[:, :-1]\n",
        "    data1 = pd.concat([data1, X_temp], axis=1)\n",
        "num_list = data.dtypes[data.dtypes != \"object\"].index.tolist()\n",
        "data1 = pd.concat([data1, data[num_list]], axis=1)\n",
        "data1 = data1.astype('float')\n",
        "print(data1.columns)\n",
        "print(data1.shape)\n",
        "encode_data = data1\n",
        "encode_data.head()"
      ],
      "metadata": {
        "id": "vDLee5KJjKLN"
      },
      "execution_count": null,
      "outputs": []
    },
    {
      "cell_type": "code",
      "execution_count": null,
      "metadata": {
        "id": "_TA9LWhsmhUe"
      },
      "outputs": [],
      "source": [
        "#prikaz podataka: \n",
        "visokiRizik=encode_data.loc[encode_data['Stepen rizika']==1]\n",
        "print(visokiRizik_kat.info())\n",
        "visokiRizik_kat=data.loc[data['Stepen rizika']==1]\n",
        "#posmatramo kako su rasporedjene vrednosti iz obelezja Upotreba alkohola, i vidimo da je ucestaliji odgovor NE, 177 puta, dok je odg da 128 puta), sto je cudno :D\n",
        "#u okviru ovog obelezja nije bilo nedostajucih podataka; korelacija sa izlaznom velicinom je 0.37\n",
        "sb.displot(visokiRizik['Upotreba alkohola'], kind='kde')\n",
        "print(visokiRizik['Upotreba alkohola'].value_counts().idxmax())\n",
        "print(visokiRizik['Upotreba alkohola'].value_counts())\n",
        "#kod obelezja Broj pokusaja suicida, cija je korelacija sa izlaznom velicinom 0.43, mozemo da primetimo da je najucestalija vrednost 0\n",
        "#u okviru ovog obelezja bilo je 15% nedostajucih podataka od ukupnog broja podataka, odnosno 47\n",
        "sb.displot(visokiRizik['Broj pokušaja suicida'],  kind='kde')\n",
        "print(visokiRizik['Broj pokušaja suicida'].value_counts().idxmax())\n",
        "print(visokiRizik['Broj pokušaja suicida'].value_counts())\n",
        "#razlog pokusaja suicida: korelacija sa izlaznom velicinom je 0.69\n",
        "#kao najcesca vrednost u okviru ovog obelezja je to da nema informacije, dok je sledeca vrednost 'neodredjeno' \n",
        "#ovo nam je malo beskorisno :(\n",
        "sb.displot(visokiRizik_kat['Razlog pokušaja suicida'])\n",
        "print(visokiRizik_kat['Razlog pokušaja suicida'].value_counts())\n",
        "print(visokiRizik_kat['Razlog pokušaja suicida'].value_counts().idxmax())\n",
        "#posmatramo koja je najcesca vrednost iz obelezja prateca dijagnoza za pacijente visokog rizika\n",
        "labels={'0: ','f0', '1: ','f1','2: ','f2','3: ','f3','4: ','f4','5:','f5','6: ','f6','7: ','f7','8: ','f8','9: ','f9','10: ','Ne postoji'}\n",
        "sb.displot(visokiRizik['Prateća dijagnoza'], discrete=True, label=labels)\n",
        "print(visokiRizik['Prateća dijagnoza'].value_counts().idxmax())\n",
        "print(visokiRizik['Prateća dijagnoza'].value_counts().idxmax())\n",
        "print(visokiRizik['Prateća dijagnoza'].value_counts())\n",
        "\n",
        "#print(godine_Visokirizik.value_counts())\n",
        "#u okviru obelezja koje prikazuje starost pacijenta, vidimo da je najucestalija vrednost 36, ali takodje mozemo da primetimo da ima 7 slucajeva koji su\n",
        "#u dvadesetim godinama (26 tacnije); u okviru ovog obelezja nema nedostajucih podataka; po vrednosti za korelaciju vidimo da ovo obelezje ne utice na izlaznu velicinu\n",
        "age=visokiRizik['Starost']\n",
        "sb.displot(age, discrete=True)\n",
        "plt.figure(figsize=(150,10))\n",
        "print(age.value_counts().idxmax())\n",
        "print(age.value_counts())\n",
        "\n",
        "#print(encode_data['Prateća dijagnoza'].max())\n"
      ]
    },
    {
      "cell_type": "code",
      "execution_count": null,
      "metadata": {
        "id": "5vJIW8PH7XXd",
        "colab": {
          "base_uri": "https://localhost:8080/"
        },
        "outputId": "09245feb-5f2c-4d9f-f5f3-60212a71d8a1"
      },
      "outputs": [
        {
          "output_type": "execute_result",
          "data": {
            "text/plain": [
              "0    1.0\n",
              "1    1.0\n",
              "2    1.0\n",
              "3    1.0\n",
              "4    1.0\n",
              "Name: Stepen rizika, dtype: float64"
            ]
          },
          "metadata": {},
          "execution_count": 9
        }
      ],
      "source": [
        "#X=encode_data.drop('Stepen rizika', axis=1)\n",
        "X=encode_data.iloc[:, :-1]\n",
        "#X=X.values\n",
        "#print(X)\n",
        "X.head()\n",
        "Y=encode_data.iloc[:, -1]\n",
        "#labels_y=Y.unique()\n",
        "#Y=Y.values\n",
        "Y.head()\n",
        "\n",
        "#print(Y)"
      ]
    },
    {
      "cell_type": "code",
      "source": [
        "labels_y=Y.unique()\n",
        "print(labels_y)"
      ],
      "metadata": {
        "colab": {
          "base_uri": "https://localhost:8080/"
        },
        "id": "71CANFT9lNMR",
        "outputId": "18dec257-8554-43f9-bef1-1e2e23640f0f"
      },
      "execution_count": null,
      "outputs": [
        {
          "output_type": "stream",
          "name": "stdout",
          "text": [
            "[1. 0.]\n"
          ]
        }
      ]
    },
    {
      "cell_type": "code",
      "execution_count": null,
      "metadata": {
        "id": "hPi7kuSlLLT-",
        "colab": {
          "base_uri": "https://localhost:8080/",
          "height": 333
        },
        "outputId": "361515ca-bc25-4343-fa2d-6ce1bfd47751"
      },
      "outputs": [
        {
          "output_type": "stream",
          "name": "stdout",
          "text": [
            "Index(['Starost', 'Broj dana hospitalizacije', 'Broj pokušaja suicida',\n",
            "       'Broj hospitalizacija', 'Broj članova domaćinstva', 'Broj dece'],\n",
            "      dtype='object')\n"
          ]
        },
        {
          "output_type": "display_data",
          "data": {
            "image/png": "[encoded data removed]",
            "text/plain": [
              "<Figure size 432x288 with 1 Axes>"
            ]
          },
          "metadata": {
            "needs_background": "light"
          }
        }
      ],
      "source": [
        "numerical_feats = X1.dtypes[X1.dtypes != \"object\"].index\n",
        "print(numerical_feats)\n",
        "sb.countplot(x='Broj pokušaja suicida', hue='Stepen rizika', data=encode_data)\n",
        "plt.hist(Y, density=True)\n",
        "plt.show()\n",
        "\n",
        "visokiStepen=data.loc[data['Stepen rizika']==1]"
      ]
    },
    {
      "cell_type": "code",
      "execution_count": null,
      "metadata": {
        "id": "b1cgYW9wAVl9"
      },
      "outputs": [],
      "source": [
        "def tacnost_po_klasi(mat_konf, klase):\n",
        "    tacnost_i = []\n",
        "    N = mat_konf.shape[0]\n",
        "    for i in range(N):\n",
        "        j = np.delete(np.array(range(N)),i) \n",
        "        TP = mat_konf[i,i]\n",
        "        F = 0\n",
        "        F = (sum(mat_konf[i,j]) + sum(mat_konf[j,i]))\n",
        "        TN = sum(sum(mat_konf)) - F - TP\n",
        "        tacnost_i.append((TP+TN)/sum(sum(mat_konf)))\n",
        "        print('Za klasu ', klase[i], ' tacnost je: ', tacnost_i[i])\n",
        "    tacnost_avg = np.mean(tacnost_i)\n",
        "    return tacnost_avg"
      ]
    },
    {
      "cell_type": "code",
      "execution_count": null,
      "metadata": {
        "id": "h1dZNeZlAhp3"
      },
      "outputs": [],
      "source": [
        "def osetljivost_po_klasi(mat_konf, klase):\n",
        "    osetljivost_i = []\n",
        "    N = mat_konf.shape[0]\n",
        "    for i in range(N):\n",
        "        j = np.delete(np.array(range(N)),i) \n",
        "        TP = mat_konf[i,i]\n",
        "        FN = sum(mat_konf[i,j])\n",
        "        osetljivost_i.append(TP/(TP+FN))\n",
        "        print('Za klasu ', klase[i], ' osetljivost je: ', osetljivost_i[i])\n",
        "    osetljivost_avg = np.mean(osetljivost_i)\n",
        "    return osetljivost_avg"
      ]
    },
    {
      "cell_type": "code",
      "execution_count": null,
      "metadata": {
        "id": "s-rnaL6g9uoy"
      },
      "outputs": [],
      "source": [
        "def evaluation_classif(conf_mat):\n",
        "    TP = conf_mat[1, 1]\n",
        "    TN = conf_mat[0, 0]\n",
        "    FP = conf_mat[0, 1]\n",
        "    FN = conf_mat[1, 0]\n",
        "    precision = TP/(TP+FP)\n",
        "    accuracy = (TP+TN)/(TP+TN+FP+FN)\n",
        "    sensitivity = TP/(TP+FN)\n",
        "    specificity = TN/(TN+FP)\n",
        "    F_score = 2*precision*sensitivity/(precision+sensitivity)\n",
        "    print('precision: ', precision)\n",
        "    print('accuracy: ', accuracy)\n",
        "    print('sensitivity/recall: ', sensitivity)\n",
        "    print('specificity: ', specificity)\n",
        "    print('F score: ', F_score)"
      ]
    },
    {
      "cell_type": "code",
      "execution_count": null,
      "metadata": {
        "id": "-dYxn_ev9pKV"
      },
      "outputs": [],
      "source": [
        "#X=np.array(X)\n",
        "X_train,X_test,Y_train,Y_test = train_test_split(X,Y,test_size=0.2,random_state=0)\n",
        "\n",
        "#skaliranje vrednosti obelezja (standardizacija vrednosti)\n",
        "sc = StandardScaler()\n",
        "X_train = sc.fit_transform(X_train)\n",
        "X_test = sc.transform(X_test)\n",
        "X_train = pd.DataFrame(X_train)\n",
        "X_test = pd.DataFrame(X_test)"
      ]
    },
    {
      "cell_type": "code",
      "execution_count": null,
      "metadata": {
        "id": "nS6ix4_Z924S"
      },
      "outputs": [],
      "source": [
        "kf = StratifiedKFold(n_splits=5, shuffle=True, random_state=42)\n",
        "acc = []\n",
        "for c in [1, 10, 100]:\n",
        "  for F in ['linear', 'rbf']:\n",
        "    indexes = kf.split(X_train, Y_train)\n",
        "    acc_tmp = []\n",
        "    f1score_tmp = []\n",
        "    fin_conf_mat = np.zeros((len(np.unique(Y_train)),len(np.unique(Y_train))))\n",
        "    for train_index, test_index in indexes:\n",
        "      classifier = SVC(C=c, kernel=F)\n",
        "      classifier.fit(X_train.iloc[train_index,:], Y_train.iloc[train_index])\n",
        "      y_pred = classifier.predict(X_train.iloc[test_index,:])\n",
        "      acc_tmp.append(accuracy_score(Y_train.iloc[test_index], y_pred))\n",
        "      f1score_tmp.append(f1_score(Y_train.iloc[test_index], y_pred))               \n",
        "      fin_conf_mat += confusion_matrix(Y_train.iloc[test_index], y_pred, labels=labels_y)\n",
        "    print('za parametre C=', c, ', kernel=', F, ' tacnost je: ', np.mean(acc_tmp), 'F1 skor je: ', np.mean(f1score_tmp),\n",
        "                  ' a mat. konf. je:')\n",
        "    print(fin_conf_mat)\n",
        "    acc.append(np.mean(acc_tmp))\n",
        "print('najbolja tacnost je u iteraciji broj: ', np.argmax(acc))"
      ]
    },
    {
      "cell_type": "code",
      "execution_count": null,
      "metadata": {
        "id": "Vlg1Hb6AAyz0"
      },
      "outputs": [],
      "source": [
        "kf = StratifiedKFold(n_splits=5, shuffle=True, random_state=1)\n",
        "indexes = kf.split(X_train, Y_train)\n",
        "fin_conf_mat = np.zeros((len(np.unique(Y)),len(np.unique(Y))))\n",
        "for train_index, test_index in indexes:\n",
        "    svm = SVC(C=1, kernel='linear')\n",
        "    svm.fit(X_train.iloc[train_index,:], Y_train.iloc[train_index])\n",
        "    y_pred = svm.predict(X_train.iloc[test_index,:])\n",
        "    #print(accuracy_score(Y_train.iloc[test_index], y_pred))\n",
        "    fin_conf_mat += confusion_matrix(Y_train.iloc[test_index], y_pred)\n",
        "#print(classification_report(Y_test, y_pred))\n",
        "print('Konacna matrica konfuzije: \\n', fin_conf_mat)\n",
        "#print('Prosecna tacnost je: ', tacnost_po_klasi(fin_conf_mat, encode_data.iloc[:,-1].unique()))\n",
        "#print('Prosecna osetljivost je: ', osetljivost_po_klasi(fin_conf_mat, encode_data.iloc[:,-1].unique()))\n",
        "#print(evaluation_classif(fin_conf_mat))\n"
      ]
    },
    {
      "cell_type": "code",
      "source": [
        "svm=SVC(C=1, kernel='linear')\n",
        "svm.fit(X_train, Y_train)\n",
        "pred=svm.predict(X_test)\n",
        "print(confusion_matrix(Y_test, pred))\n",
        "#print(\"Tacnost: \",accuracy_score(Y_test, pred))\n",
        "#print('Preciznost: ',precision_score(Y_test, pred))\n",
        "print(classification_report(Y_test, pred))"
      ],
      "metadata": {
        "id": "TwUCKTtEp0pL"
      },
      "execution_count": null,
      "outputs": []
    },
    {
      "cell_type": "code",
      "source": [
        "kf = StratifiedKFold(n_splits=5, shuffle=True, random_state=42)\n",
        "acc = []\n",
        "for m in ['hamming', 'euclidean']:\n",
        "  for i in range(1, 10):\n",
        "    indexes = kf.split(X_train, Y_train)\n",
        "    f1score_tmp = []\n",
        "    acc_tmp = []\n",
        "    fin_conf_mat = np.zeros((len(np.unique(Y_train)),len(np.unique(Y_train))))\n",
        "    for train_index, test_index in indexes:\n",
        "      classifier = KNeighborsClassifier(n_neighbors=i, metric=m)\n",
        "      classifier.fit(X_train.iloc[train_index,:], Y_train.iloc[train_index])\n",
        "      y_pred = classifier.predict(X_train.iloc[test_index,:])\n",
        "      acc_tmp.append(accuracy_score(Y_train.iloc[test_index], y_pred))\n",
        "      f1score_tmp.append(f1_score(Y_train.iloc[test_index], y_pred))               \n",
        "      fin_conf_mat += confusion_matrix(Y_train.iloc[test_index], y_pred, labels=labels_y)\n",
        "    print('za parametar k=', i, 'metriku', m, 'tacnost je', np.mean(acc_tmp), 'F1 skor je: ', np.mean(f1score_tmp), 'a matrica konfuzije je ')\n",
        "    print(fin_conf_mat)\n",
        "    acc.append(np.mean(acc_tmp))\n",
        "print('najbolja tacnost je u iteraciji broj: ', np.argmax(acc))"
      ],
      "metadata": {
        "colab": {
          "base_uri": "https://localhost:8080/"
        },
        "id": "-KkTDJ_TpZ2j",
        "outputId": "5c393c0d-04fe-49ec-c9bf-4b6096a0a33a"
      },
      "execution_count": null,
      "outputs": [
        {
          "output_type": "stream",
          "name": "stdout",
          "text": [
            "za parametar k= 1 metriku hamming tacnost je 0.8625 F1 skor je:  0.8720831728917983 a matrica konfuzije je \n",
            "[[114.  22.]\n",
            " [ 11.  93.]]\n",
            "za parametar k= 2 metriku hamming tacnost je 0.85 F1 skor je:  0.8455412683729057 a matrica konfuzije je \n",
            "[[100.  36.]\n",
            " [  0. 104.]]\n",
            "za parametar k= 3 metriku hamming tacnost je 0.9041666666666666 F1 skor je:  0.9100358639182169 a matrica konfuzije je \n",
            "[[117.  19.]\n",
            " [  4. 100.]]\n",
            "za parametar k= 4 metriku hamming tacnost je 0.8916666666666668 F1 skor je:  0.8936382245205774 a matrica konfuzije je \n",
            "[[111.  25.]\n",
            " [  1. 103.]]\n",
            "za parametar k= 5 metriku hamming tacnost je 0.9291666666666668 F1 skor je:  0.9333152337858222 a matrica konfuzije je \n",
            "[[120.  16.]\n",
            " [  1. 103.]]\n",
            "za parametar k= 6 metriku hamming tacnost je 0.9 F1 skor je:  0.9012820512820513 a matrica konfuzije je \n",
            "[[112.  24.]\n",
            " [  0. 104.]]\n",
            "za parametar k= 7 metriku hamming tacnost je 0.9125 F1 skor je:  0.9171131700543466 a matrica konfuzije je \n",
            "[[118.  18.]\n",
            " [  3. 101.]]\n",
            "za parametar k= 8 metriku hamming tacnost je 0.9041666666666666 F1 skor je:  0.9058738880167452 a matrica konfuzije je \n",
            "[[113.  23.]\n",
            " [  0. 104.]]\n",
            "za parametar k= 9 metriku hamming tacnost je 0.9208333333333334 F1 skor je:  0.9238814016172506 a matrica konfuzije je \n",
            "[[118.  18.]\n",
            " [  1. 103.]]\n",
            "za parametar k= 1 metriku euclidean tacnost je 0.7916666666666667 F1 skor je:  0.8087246408921385 a matrica konfuzije je \n",
            "[[107.  29.]\n",
            " [ 21.  83.]]\n",
            "za parametar k= 2 metriku euclidean tacnost je 0.7916666666666667 F1 skor je:  0.7757900167144715 a matrica konfuzije je \n",
            "[[ 88.  48.]\n",
            " [  2. 102.]]\n",
            "za parametar k= 3 metriku euclidean tacnost je 0.8625 F1 skor je:  0.8696316406904641 a matrica konfuzije je \n",
            "[[111.  25.]\n",
            " [  8.  96.]]\n",
            "za parametar k= 4 metriku euclidean tacnost je 0.825 F1 skor je:  0.8152157368427705 a matrica konfuzije je \n",
            "[[ 95.  41.]\n",
            " [  1. 103.]]\n",
            "za parametar k= 5 metriku euclidean tacnost je 0.8875 F1 skor je:  0.8932291412291413 a matrica konfuzije je \n",
            "[[114.  22.]\n",
            " [  5.  99.]]\n",
            "za parametar k= 6 metriku euclidean tacnost je 0.8541666666666667 F1 skor je:  0.8525244417841144 a matrica konfuzije je \n",
            "[[102.  34.]\n",
            " [  1. 103.]]\n",
            "za parametar k= 7 metriku euclidean tacnost je 0.9 F1 skor je:  0.904820977963835 a matrica konfuzije je \n",
            "[[115.  21.]\n",
            " [  3. 101.]]\n",
            "za parametar k= 8 metriku euclidean tacnost je 0.8708333333333333 F1 skor je:  0.8708232229061836 a matrica konfuzije je \n",
            "[[106.  30.]\n",
            " [  1. 103.]]\n",
            "za parametar k= 9 metriku euclidean tacnost je 0.8958333333333334 F1 skor je:  0.8993299055471246 a matrica konfuzije je \n",
            "[[113.  23.]\n",
            " [  2. 102.]]\n",
            "najbolja tacnost je u iteraciji broj:  4\n"
          ]
        }
      ]
    },
    {
      "cell_type": "code",
      "source": [
        "kf = StratifiedKFold(n_splits=5, shuffle=True, random_state=1)\n",
        "indexes = kf.split(X_train, Y_train)\n",
        "acc = []\n",
        "fin_conf_mat = np.zeros((len(np.unique(Y)),len(np.unique(Y))))\n",
        "for train_index, test_index in indexes:\n",
        "    knn = KNeighborsClassifier(n_neighbors=5, metric='hamming')\n",
        "    knn.fit(X_train.iloc[train_index,:], Y_train.iloc[train_index])\n",
        "    y_pred = knn.predict(X_train.iloc[test_index,:])\n",
        "    #print(accuracy_score(Y_train.iloc[test_index], y_pred))\n",
        "    fin_conf_mat += confusion_matrix(Y_train.iloc[test_index], y_pred)\n",
        "#print(classification_report(Y_test, y_pred))\n",
        "print('Konacna matrica konfuzije: \\n', fin_conf_mat)\n",
        "print('Prosecna tacnost je: ', tacnost_po_klasi(fin_conf_mat, encode_data.iloc[:,-1].unique()))\n",
        "print('Prosecna osetljivost je: ', osetljivost_po_klasi(fin_conf_mat, encode_data.iloc[:,-1].unique()))\n",
        "print(evaluation_classif(fin_conf_mat))"
      ],
      "metadata": {
        "colab": {
          "base_uri": "https://localhost:8080/"
        },
        "id": "p4siEPBCqHXr",
        "outputId": "2a100b3c-75ac-4714-81f0-7a139ed7bf4c"
      },
      "execution_count": null,
      "outputs": [
        {
          "output_type": "stream",
          "name": "stdout",
          "text": [
            "Konacna matrica konfuzije: \n",
            " [[104.   0.]\n",
            " [ 15. 121.]]\n",
            "Za klasu  1.0  tacnost je:  0.9375\n",
            "Za klasu  0.0  tacnost je:  0.9375\n",
            "Prosecna tacnost je:  0.9375\n",
            "Za klasu  1.0  osetljivost je:  1.0\n",
            "Za klasu  0.0  osetljivost je:  0.8897058823529411\n",
            "Prosecna osetljivost je:  0.9448529411764706\n",
            "precision:  1.0\n",
            "accuracy:  0.9375\n",
            "sensitivity/recall:  0.8897058823529411\n",
            "specificity:  1.0\n",
            "F score:  0.9416342412451362\n",
            "None\n"
          ]
        }
      ]
    },
    {
      "cell_type": "code",
      "source": [
        "knn=KNeighborsClassifier(n_neighbors=5, metric='hamming')\n",
        "knn.fit(X_train, Y_train)\n",
        "pred=knn.predict_proba(X_test)\n",
        "#print(confusion_matrix(Y_test, pred))\n",
        "#print(\"Tacnost: \",accuracy_score(Y_test, pred))\n",
        "#print('Preciznost: ',precision_score(Y_test, pred))\n",
        "#print(classification_report(Y_test, pred))\n",
        "#fig = plot_confusion_matrix(knn, X_test, Y_test, display_labels=knn.classes_)\n",
        "#fig.figure_.suptitle(\"Confusion Matrix\")\n",
        "#plt.show()\n",
        "#score = f1_score(Y_test, pred, average='binary')\n",
        "#print('F-Measure: %.3f' % score)\n",
        "auc_knn = roc_auc_score(Y_test, pred[:,1])\n",
        "fpr, tpr, threshold = roc_curve(Y_test, pred[:, 1])\n",
        "print('ROC AUC: %f' % auc_knn)\n",
        "print(pred)\n",
        "print('th: ', threshold)\n",
        "#print('recall: ', tpr)\n",
        "#print('sprecifity: ', 1-fpr)\n",
        "plt.plot(fpr, tpr,label=\"AUC=\"+str(auc_knn))\n",
        "print('fpr: ', fpr)\n",
        "print('tpr: ', tpr)\n",
        "plt.ylabel('True Positive Rate')\n",
        "plt.xlabel('False Positive Rate')\n",
        "plt.title('ROC curve')\n",
        "plt.legend(loc=4)\n",
        "plt.show()\n",
        "#\"\"\"\"\"results = permutation_importance(knn, X_train, Y_train, scoring='accuracy')\n",
        "# get importance\n",
        "#importance = results.importances_mean\n",
        "# summarize feature importance\n",
        "#for i,v in enumerate(importance):\n",
        "#\tprint('Feature: %0d, Score: %.5f' % (i,v))\n",
        "# plot feature importance\n",
        "#pyplot.bar([x for x in range(len(importance))], importance)\n",
        "#pyplot.show()"
      ],
      "metadata": {
        "id": "bju75wAPqeor"
      },
      "execution_count": null,
      "outputs": []
    },
    {
      "cell_type": "code",
      "source": [
        "kf = StratifiedKFold(n_splits=5, shuffle=True, random_state=42)\n",
        "acc = []\n",
        "for c in ['gini', 'entropy']:\n",
        "  for i in range(5, 20):\n",
        "    indexes = kf.split(X_train, Y_train)\n",
        "    f1score_tmp = []\n",
        "    acc_tmp = []\n",
        "    fin_conf_mat = np.zeros((len(np.unique(Y_train)),len(np.unique(Y_train))))\n",
        "    for train_index, test_index in indexes:\n",
        "      classifier = DecisionTreeClassifier(criterion = c, max_depth=i)\n",
        "      classifier.fit(X_train.iloc[train_index,:], Y_train.iloc[train_index])\n",
        "      y_pred = classifier.predict(X_train.iloc[test_index,:])\n",
        "      acc_tmp.append(accuracy_score(Y_train.iloc[test_index], y_pred))\n",
        "      f1score_tmp.append(f1_score(Y_train.iloc[test_index], y_pred))               \n",
        "      fin_conf_mat += confusion_matrix(Y_train.iloc[test_index], y_pred, labels=labels_y)\n",
        "    print('za parametar max_depth=', i, 'kriterijum', c, 'tacnost je', np.mean(acc_tmp), 'F1 skor je: ', np.mean(f1score_tmp), 'a matrica konfuzije je ')\n",
        "    print(fin_conf_mat)\n",
        "    acc.append(np.mean(acc_tmp))\n",
        "print('najbolja tacnost je u iteraciji broj: ', np.argmax(acc))"
      ],
      "metadata": {
        "id": "54bVa2A0w-2G"
      },
      "execution_count": null,
      "outputs": []
    },
    {
      "cell_type": "code",
      "source": [
        "kf = StratifiedKFold(n_splits=5, shuffle=True, random_state=42)\n",
        "indexes = kf.split(X1_train, Y1_train)\n",
        "\n",
        "fin_conf_mat_dt = np.zeros((len(np.unique(Y1_train)),len(np.unique(Y1_train))))\n",
        "\n",
        "for train_index, test_index in indexes:\n",
        "    classifier = DecisionTreeClassifier(max_depth=5)\n",
        "    classifier.fit(X1_train.iloc[train_index,:], Y1_train.iloc[train_index])\n",
        "    plt.figure(figsize=(16,9), dpi=300)\n",
        "    tree.plot_tree(classifier)\n",
        "    Y_pred = classifier.predict(X1_train.iloc[test_index,:])\n",
        "    conf_mat = confusion_matrix(Y1_train.iloc[test_index], Y_pred)\n",
        "    print(conf_mat)\n",
        "    fin_conf_mat_dt += conf_mat\n",
        "print('finalna matrica za stablo odluke je: ')\n",
        "print(fin_conf_mat_dt)\n",
        "print('procenat pogođenih uzoraka je: ', np.trace(fin_conf_mat_dt)/sum(sum(fin_conf_mat_dt))*100, '%')\n"
      ],
      "metadata": {
        "id": "xtpj4_6Mw27n"
      },
      "execution_count": null,
      "outputs": []
    },
    {
      "cell_type": "markdown",
      "source": [
        "********************************** ****************"
      ],
      "metadata": {
        "id": "nMsLJg17vLjU"
      }
    },
    {
      "cell_type": "code",
      "execution_count": null,
      "metadata": {
        "id": "H2o46EBq8LWs",
        "colab": {
          "base_uri": "https://localhost:8080/"
        },
        "outputId": "7dd8b0fc-2abb-411b-bca9-bdb20f550ddf"
      },
      "outputs": [
        {
          "output_type": "stream",
          "name": "stdout",
          "text": [
            "{'activation': 'tanh', 'alpha': 0.0001, 'hidden_layer_sizes': (150, 100, 50), 'learning_rate': 'adaptive', 'max_iter': 150, 'solver': 'sgd'}\n"
          ]
        },
        {
          "output_type": "stream",
          "name": "stderr",
          "text": [
            "/usr/local/lib/python3.7/dist-packages/sklearn/neural_network/_multilayer_perceptron.py:696: ConvergenceWarning: Stochastic Optimizer: Maximum iterations (150) reached and the optimization hasn't converged yet.\n",
            "  ConvergenceWarning,\n"
          ]
        }
      ],
      "source": [
        "from sklearn.model_selection import StratifiedKFold\n",
        "from sklearn.neural_network import MLPClassifier\n",
        "from sklearn.model_selection import GridSearchCV\n",
        "mlp_clf = MLPClassifier()\n",
        "param_grid = {\n",
        "    'hidden_layer_sizes': [(150,100,50), (120,80,40), (100,50,30)],\n",
        "    'max_iter': [50, 100, 150],\n",
        "    'activation': ['tanh', 'relu'],\n",
        "    'solver': ['sgd', 'adam'],\n",
        "    'alpha': [0.0001, 0.05],\n",
        "    'learning_rate': ['constant','adaptive'],\n",
        "}\n",
        "grid = GridSearchCV(mlp_clf, param_grid, n_jobs= -1, cv=5)\n",
        "grid.fit(X_train, Y_train)\n",
        "\n",
        "print(grid.best_params_) "
      ]
    },
    {
      "cell_type": "code",
      "execution_count": null,
      "metadata": {
        "id": "VnSgthn6BlXy"
      },
      "outputs": [],
      "source": [
        "from sklearn.model_selection import StratifiedKFold\n",
        "from sklearn.neural_network import MLPClassifier\n",
        "from sklearn.model_selection import GridSearchCV\n",
        "mlp_clf = MLPClassifier()\n",
        "classifier = MLPClassifier(hidden_layer_sizes=(150, 100, 50), activation='tanh',\n",
        "                          solver='sgd', batch_size=32, learning_rate='adaptive', \n",
        "                          learning_rate_init=0.0001, max_iter=150, alpha=0.05, shuffle=True,\n",
        "                          random_state=1, early_stopping=True, n_iter_no_change=10,\n",
        "                          validation_fraction=0.1, verbose=False)\n",
        "fitMethod=classifier.fit(X_train, Y_train)\n",
        "y_pred = classifier.predict(X_test)\n",
        "print('Accuracy: {:.2f}'.format(accuracy_score(Y_test, y_pred)))\n",
        "auc = roc_auc_score(Y_test, y_pred)\n",
        "print('ROC AUC: %f' % auc)\n",
        "precision = precision_score(Y_test, y_pred)\n",
        "print('Precision: %f' % precision)\n",
        "fig = plot_confusion_matrix(classifier, X_test, Y_test, display_labels=classifier.classes_)\n",
        "fig.figure_.suptitle(\"Confusion Matrix\")\n",
        "plt.show()\n",
        "print(classification_report(Y_test, y_pred))\n",
        "plt.plot(classifier.loss_curve_)\n",
        "plt.title(\"Loss Curve\", fontsize=14)\n",
        "plt.xlabel('Iterations')\n",
        "plt.ylabel('Cost')\n",
        "plt.show()"
      ]
    },
    {
      "cell_type": "markdown",
      "metadata": {
        "id": "qrmzLCuT2nQ6"
      },
      "source": [
        "U ovom delu je radjeno kao na vezbama; rezultati su losiji u poredjenju sa prethodnim"
      ]
    },
    {
      "cell_type": "code",
      "execution_count": null,
      "metadata": {
        "colab": {
          "base_uri": "https://localhost:8080/",
          "height": 1000
        },
        "id": "fZ8Ey60JuCos",
        "outputId": "5abcf425-c47d-4ed6-f5f3-0fe48df240cb"
      },
      "outputs": [
        {
          "output_type": "display_data",
          "data": {
            "image/png": "[encoded data removed]",
            "text/plain": [
              "<Figure size 432x288 with 1 Axes>"
            ]
          },
          "metadata": {
            "needs_background": "light"
          }
        },
        {
          "output_type": "stream",
          "name": "stdout",
          "text": [
            "0.725\n"
          ]
        },
        {
          "output_type": "display_data",
          "data": {
            "image/png": "[encoded data removed]",
            "text/plain": [
              "<Figure size 432x288 with 1 Axes>"
            ]
          },
          "metadata": {
            "needs_background": "light"
          }
        },
        {
          "output_type": "stream",
          "name": "stdout",
          "text": [
            "0.8125\n"
          ]
        },
        {
          "output_type": "display_data",
          "data": {
            "image/png": "[encoded data removed]",
            "text/plain": [
              "<Figure size 432x288 with 1 Axes>"
            ]
          },
          "metadata": {
            "needs_background": "light"
          }
        },
        {
          "output_type": "stream",
          "name": "stdout",
          "text": [
            "0.8625\n",
            "Konacna matrica konfuzije: \n",
            " [[ 91.  13.]\n",
            " [ 35. 101.]]\n",
            "Procenat tacno predvidjenih:  0.8\n",
            "Za klasu  1.0  tacnost je:  0.8\n",
            "Za klasu  0.0  tacnost je:  0.8\n",
            "Prosecna tacnost je:  0.8\n",
            "precision:  0.8859649122807017\n",
            "accuracy:  0.8\n",
            "sensitivity/recall:  0.7426470588235294\n",
            "specificity:  0.875\n",
            "F score:  0.808\n",
            "None\n"
          ]
        }
      ],
      "source": [
        "from sklearn.model_selection import StratifiedKFold\n",
        "from sklearn.neural_network import MLPClassifier\n",
        "kf = StratifiedKFold(n_splits=3, shuffle=True, random_state=42)\n",
        "indexes = kf.split(X_train, Y_train)\n",
        "acc = []\n",
        "fin_conf_mat = np.zeros((len(np.unique(Y)),len(np.unique(Y))))\n",
        "for train_index, test_index in indexes:\n",
        "    classifier = MLPClassifier(hidden_layer_sizes=(120, 80, 40), activation='tanh',\n",
        "                          solver='adam', batch_size=32, learning_rate='adaptive', \n",
        "                          learning_rate_init=0.0001, max_iter=100, alpha=0.05, shuffle=True,\n",
        "                          random_state=1, early_stopping=True, n_iter_no_change=10,\n",
        "                          validation_fraction=0.1, verbose=False)\n",
        "    classifier.fit(X_train.iloc[train_index,:], Y_train.iloc[train_index])\n",
        "    y_pred = classifier.predict(X_train.iloc[test_index,:])\n",
        "    plt.figure\n",
        "    plt.plot(classifier.validation_scores_)\n",
        "    #plt.plot(classifier.loss_curve_)\n",
        "    plt.show()\n",
        "    print(accuracy_score(Y_train.iloc[test_index], y_pred))\n",
        "    fin_conf_mat += confusion_matrix(Y_train.iloc[test_index], y_pred)\n",
        "\n",
        "print('Konacna matrica konfuzije: \\n', fin_conf_mat)\n",
        "print('Procenat tacno predvidjenih: ', sum(np.diag(fin_conf_mat))/sum(sum(fin_conf_mat)))\n",
        "print('Prosecna tacnost je: ', tacnost_po_klasi(fin_conf_mat, encode_data.iloc[:,-1].unique()))\n",
        "#print('Prosecna osetljivost je: ', osetljivost_po_klasi(fin_conf_mat, encode_data.iloc[:,-1].unique()))\n",
        "print(evaluation_classif(fin_conf_mat))"
      ]
    },
    {
      "cell_type": "code",
      "execution_count": null,
      "metadata": {
        "colab": {
          "base_uri": "https://localhost:8080/"
        },
        "id": "xS7jA7rvgl8o",
        "outputId": "58db24c1-d44c-49f2-a3fc-8518ed233f13"
      },
      "outputs": [
        {
          "name": "stdout",
          "output_type": "stream",
          "text": [
            "[0.02 0.96 0.03 0.03 1.   0.07 0.03 0.08 0.87 0.1  0.39 1.   0.06 0.93\n",
            " 1.   1.   0.09 1.   0.08 1.   1.   0.06 0.05 0.04 0.14 0.95 0.1  1.\n",
            " 0.92 1.   0.08 0.03 0.84 1.   0.05 1.   0.07 1.   0.08 0.02 0.73 1.\n",
            " 0.02 0.03 1.   0.09 0.02 0.72 0.1  1.   0.99 0.05 0.09 1.   0.99 1.\n",
            " 0.96 0.01 1.   1.   1.  ]\n"
          ]
        }
      ],
      "source": [
        "import sklearn\n",
        "model=Sequential()\n",
        "model.add(Dense(18, input_shape=(X_train.shape[1],), activation='relu')) # Add an input shape! (features,)\n",
        "model.add(Dense(16, activation='relu'))\n",
        "model.add(Dense(6,activation=\"relu\"))\n",
        "model.add(Dense(1, activation='sigmoid'))\n",
        "model.summary() \n",
        "\n",
        "model.compile(optimizer=\"RMSprop\", loss=\"binary_crossentropy\", metrics=[\"accuracy\"])\n",
        "# early stopping callback\n",
        "# This callback will stop the training when there is no improvement in  \n",
        "# the validation loss for 10 consecutive epochs.  \n",
        "es = EarlyStopping(monitor='val_accuracy', \n",
        "                                   mode='max', #bez minimizacije tacnosti \n",
        "                                   patience=10,\n",
        "                                   restore_best_weights=True)\n",
        "\n",
        "fitMethod = model.fit(X_train, Y_train, callbacks=[es], epochs=100, batch_size=16, validation_split=0.2, shuffle=True, verbose=1)\n",
        "\n",
        "predProb=model.predict(X_test, verbose=0)\n",
        "print(predProb)\n",
        "predProb = predProb.flatten()\n",
        "print(predProb.round(2))\n",
        "\n",
        "# extract the predicted class labels\n",
        "yPred = np.where(predProb > 0.5, 1, 0)\n",
        "print(classification_report(Y_test, yPred))\n",
        "#_, accuracy = model.evaluate(X_train, Y_train) #ovo je tacnost u procesu treniranja, tj. tacnost za podatke iz skupa za obuku\n",
        "#print('Accuracy: %.2f' % (accuracy*100))\n",
        "#_, accuracy_test = model.evaluate(X_test, predProb) #ovo je tacnost u procesu treniranja, tj. tacnost za podatke iz skupa za obuku\n",
        "#print('Accuracy: %.2f' % (accuracy_test*100))\n",
        "print(yPred)\n",
        "# accuracy: (tp + tn) / (p + n)\n",
        "accuracy_nn = accuracy_score(Y_test, yPred)\n",
        "print('Accuracy: %f' % accuracy_nn)\n",
        "# precision tp / (tp + fp)\n",
        "precision = precision_score(Y_test, yPred)\n",
        "print('Precision: %f' % precision)\n",
        "# recall: tp / (tp + fn)\n",
        "recall = recall_score(Y_test, yPred)\n",
        "print('Recall: %f' % recall)\n",
        "# ROC AUC\n",
        "auc = roc_auc_score(Y_test, yPred)\n",
        "print('ROC AUC: %f' % auc)\n",
        "# confusion matrix\n",
        "matrix = confusion_matrix(Y_test, yPred)\n",
        "print(matrix)\n",
        "\n",
        "\n",
        "# list all data in history\n",
        "print(fitMethod.history.keys())\n",
        "# summarize history for accuracy\n",
        "plt.plot(fitMethod.history['accuracy'])\n",
        "plt.plot(fitMethod.history['val_accuracy'])\n",
        "plt.title('model accuracy')\n",
        "plt.ylabel('accuracy')\n",
        "plt.xlabel('epoch')\n",
        "plt.legend(['train', 'test'], loc='upper left')\n",
        "plt.show()\n",
        "# summarize history for loss\n",
        "plt.plot(fitMethod.history['loss'])\n",
        "plt.plot(fitMethod.history['val_loss'])\n",
        "plt.title('model loss')\n",
        "plt.ylabel('loss')\n",
        "plt.xlabel('epoch')\n",
        "plt.legend(['train', 'test'], loc='upper left')\n",
        "plt.show()\n"
      ]
    },
    {
      "cell_type": "code",
      "execution_count": null,
      "metadata": {
        "colab": {
          "base_uri": "https://localhost:8080/",
          "height": 301
        },
        "id": "Lhe7YyKllcr1",
        "outputId": "7b60ac2f-7259-4f18-b990-f83aabe83320"
      },
      "outputs": [
        {
          "data": {
            "image/png": "[encoded data removed]",
            "text/plain": [
              "<Figure size 432x288 with 1 Axes>"
            ]
          },
          "metadata": {},
          "output_type": "display_data"
        }
      ],
      "source": [
        "history_dict = fitMethod.history\n",
        "# Learning curve(Loss)\n",
        "# training and validation loss by epoch\n",
        "\n",
        "# loss\n",
        "loss_values = history_dict['loss']\n",
        "val_loss_values = history_dict['val_loss']\n",
        "\n",
        "# range of X (no. of epochs)\n",
        "epochs = range(1, len(loss_values) + 1) \n",
        "\n",
        "# plot\n",
        "plt.plot(epochs, loss_values, 'bo', label='Training loss')\n",
        "plt.plot(epochs, val_loss_values, 'orange', label='Validation loss')\n",
        "plt.title('Training and validation loss')\n",
        "plt.xlabel('Epochs')\n",
        "plt.ylabel('Loss')\n",
        "plt.legend()\n",
        "plt.show()"
      ]
    }
  ],
  "metadata": {
    "accelerator": "GPU",
    "colab": {
      "collapsed_sections": [],
      "name": "predikcijaSuicida.ipynb",
      "provenance": [],
      "include_colab_link": true
    },
    "kernelspec": {
      "display_name": "Python 3",
      "language": "python",
      "name": "python3"
    },
    "language_info": {
      "codemirror_mode": {
        "name": "ipython",
        "version": 3
      },
      "file_extension": ".py",
      "mimetype": "text/x-python",
      "name": "python",
      "nbconvert_exporter": "python",
      "pygments_lexer": "ipython3",
      "version": "3.6.8"
    }
  },
  "nbformat": 4,
  "nbformat_minor": 0
}